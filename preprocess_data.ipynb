{
 "cells": [
  {
   "cell_type": "code",
   "execution_count": 1,
   "metadata": {
    "ExecuteTime": {
     "end_time": "2022-03-26T13:02:27.731977Z",
     "start_time": "2022-03-26T13:02:25.947474Z"
    }
   },
   "outputs": [],
   "source": [
    "import pandas as pd\n",
    "import numpy as np\n",
    "import pickle"
   ]
  },
  {
   "cell_type": "markdown",
   "metadata": {},
   "source": [
    "# 处理CCLE数据"
   ]
  },
  {
   "cell_type": "code",
   "execution_count": 2,
   "metadata": {
    "ExecuteTime": {
     "end_time": "2022-04-24T07:24:01.842180Z",
     "start_time": "2022-04-24T07:24:01.065081Z"
    }
   },
   "outputs": [],
   "source": [
    "drug_smiles = pd.read_csv('./data/drug_smiles.csv')\n",
    "drug_smiles.rename(columns={'name':'Drug name'}, inplace=True)\n",
    "ic_50_df = pd.read_csv(\"./data/PANCANCER_IC.csv\")\n",
    "ic_50_df['Cell line name'] = ic_50_df['Cell line name'].apply(lambda x:x.replace(\"-\", '').replace(' ','').replace('.', '').upper())\n",
    "cell_info = pd.read_csv(\"./data/sample_info.csv\")\n",
    "cell_info.rename(columns={'stripped_cell_line_name':'Cell line name'}, inplace=True)\n",
    "ic_50_df = ic_50_df.merge(cell_info[['DepMap_ID', 'Cell line name']], on='Cell line name', how='left')\n",
    "ic_50_df = ic_50_df[(~ic_50_df['DepMap_ID'].isnull()) & (~ic_50_df['Drug name'].isnull())]\n",
    "node_drug = ic_50_df[['Drug name']].drop_duplicates().sort_values('Drug name')\n",
    "node_cell = ic_50_df[['DepMap_ID']].drop_duplicates().sort_values('DepMap_ID')"
   ]
  },
  {
   "cell_type": "code",
   "execution_count": 3,
   "metadata": {
    "ExecuteTime": {
     "end_time": "2022-04-24T07:25:37.053113Z",
     "start_time": "2022-04-24T07:24:02.705287Z"
    }
   },
   "outputs": [
    {
     "name": "stderr",
     "output_type": "stream",
     "text": [
      "/data2/ouyangzhenqiu/.conda/envs/ogb/lib/python3.6/site-packages/IPython/core/interactiveshell.py:3072: DtypeWarning: Columns (3,19,22,27,28,29,30,31) have mixed types.Specify dtype option on import or set low_memory=False.\n",
      "  interactivity=interactivity, compiler=compiler, result=result)\n"
     ]
    }
   ],
   "source": [
    "cell_exp = pd.read_csv(\"./data/CCLE_expression.csv\", index_col=0)\n",
    "cell_exp.columns = pd.Series(cell_exp.columns).apply(lambda x:x.split(' ')[1].strip('()'))\n",
    "cell_mu = pd.read_csv(\"./data/CCLE_mutations.csv\")\n",
    "cell_mu['Entrez_Gene_Id'] = cell_mu['Entrez_Gene_Id'].astype('str')"
   ]
  },
  {
   "cell_type": "markdown",
   "metadata": {},
   "source": [
    "# 突变方案"
   ]
  },
  {
   "cell_type": "code",
   "execution_count": 5,
   "metadata": {
    "ExecuteTime": {
     "end_time": "2022-04-24T07:25:50.491135Z",
     "start_time": "2022-04-24T07:25:39.804970Z"
    }
   },
   "outputs": [],
   "source": [
    "cell_mu['is_muted'] = 1\n",
    "cell_mu = pd.pivot_table(cell_mu, columns=['Entrez_Gene_Id'], index=['DepMap_ID'], values=['is_muted'], aggfunc=np.mean, fill_value=0)\n",
    "cell_mu.columns = cell_mu.columns.get_level_values(1)\n",
    "cell_mu.columns.name = None\n",
    "cell_mu.index.name = 'DepMap_ID'\n",
    "cell_exp.index.name = 'DepMap_ID'\n",
    "cell_mu = cell_mu.sort_values('DepMap_ID')\n",
    "cell_exp = cell_exp.sort_values('DepMap_ID')"
   ]
  },
  {
   "cell_type": "markdown",
   "metadata": {},
   "source": [
    "# GDSC"
   ]
  },
  {
   "cell_type": "code",
   "execution_count": 6,
   "metadata": {
    "ExecuteTime": {
     "end_time": "2022-04-24T07:26:34.444211Z",
     "start_time": "2022-04-24T07:26:34.207393Z"
    }
   },
   "outputs": [],
   "source": [
    "cell_index = list(cell_exp.index&cell_mu.index&node_cell['DepMap_ID'])\n",
    "drug_index = drug_smiles['Drug name']\n",
    "node_cell = node_cell[node_cell['DepMap_ID'].isin(cell_index)]\n",
    "node_drug = node_drug[node_drug['Drug name'].isin(drug_index)]\n",
    "cell_exp = cell_exp.loc[cell_index]\n",
    "cell_mu = cell_mu.loc[cell_index]\n",
    "ic_50_df = ic_50_df[ic_50_df['Drug name'].isin(drug_index) & ic_50_df['DepMap_ID'].isin(cell_index)]"
   ]
  },
  {
   "cell_type": "code",
   "execution_count": 7,
   "metadata": {
    "ExecuteTime": {
     "end_time": "2022-04-24T07:26:35.162025Z",
     "start_time": "2022-04-24T07:26:35.037186Z"
    }
   },
   "outputs": [],
   "source": [
    "node_drug.loc[:, 'drug_node_id'] = range(len(node_drug))\n",
    "node_cell.loc[:, 'cell_node_id'] = range(len(node_cell))\n",
    "ic_50_df = ic_50_df.merge(node_drug, on='Drug name', how='left').merge(node_cell, on='DepMap_ID', how='left')"
   ]
  },
  {
   "cell_type": "code",
   "execution_count": 8,
   "metadata": {
    "ExecuteTime": {
     "end_time": "2022-04-24T07:26:35.710339Z",
     "start_time": "2022-04-24T07:26:35.596854Z"
    }
   },
   "outputs": [],
   "source": [
    "multi_task_df = pd.pivot_table(ic_50_df, columns=['Drug name'], index=['DepMap_ID'], values=['IC50'], aggfunc=np.sum, fill_value=None)\n",
    "multi_task_df.columns = multi_task_df.columns.get_level_values(1)\n",
    "multi_task_df.columns.name = None"
   ]
  },
  {
   "cell_type": "code",
   "execution_count": 9,
   "metadata": {
    "ExecuteTime": {
     "end_time": "2022-04-24T07:26:36.758158Z",
     "start_time": "2022-04-24T07:26:36.432285Z"
    }
   },
   "outputs": [],
   "source": [
    "cell_exp = node_cell.merge(cell_exp, on='DepMap_ID', how='left')\n",
    "cell_mu = node_cell.merge(cell_mu, on='DepMap_ID', how='left')"
   ]
  },
  {
   "cell_type": "code",
   "execution_count": 10,
   "metadata": {
    "ExecuteTime": {
     "end_time": "2022-04-24T07:26:37.382656Z",
     "start_time": "2022-04-24T07:26:37.347561Z"
    }
   },
   "outputs": [],
   "source": [
    "census = pd.read_csv(\"./data/Census_all.csv\")\n",
    "census = census[census['Entrez GeneId'].notna()]\n",
    "census['Entrez GeneId'] = census['Entrez GeneId'].astype('int').astype('str')\n",
    "gene_list = list(set(census['Entrez GeneId'])&set(cell_exp.columns)&set(cell_mu.columns))"
   ]
  },
  {
   "cell_type": "code",
   "execution_count": 11,
   "metadata": {
    "ExecuteTime": {
     "end_time": "2022-04-24T07:26:38.221545Z",
     "start_time": "2022-04-24T07:26:37.920148Z"
    }
   },
   "outputs": [],
   "source": [
    "index = ['DepMap_ID', 'cell_node_id'] + gene_list\n",
    "cell_exp = cell_exp[index].T[~cell_exp[index].columns.duplicated(keep='first')].T\n",
    "cell_mu = cell_mu[index]"
   ]
  },
  {
   "cell_type": "code",
   "execution_count": 12,
   "metadata": {},
   "outputs": [],
   "source": [
    "cell_info = pd.read_csv(\"./data/CCLE_classification.csv\")"
   ]
  },
  {
   "cell_type": "code",
   "execution_count": 13,
   "metadata": {},
   "outputs": [],
   "source": [
    "cell_info.rename(columns={'stripped_cell_line_name':'Cell line name'}, inplace=True)"
   ]
  },
  {
   "cell_type": "code",
   "execution_count": 14,
   "metadata": {},
   "outputs": [],
   "source": [
    "cell_info.rename(columns={'cell_type':'cancer_type'}, inplace=True)"
   ]
  },
  {
   "cell_type": "code",
   "execution_count": 15,
   "metadata": {},
   "outputs": [],
   "source": [
    "cell_exp = pd.merge(cell_info[['DepMap_ID', 'cancer_type']], cell_exp, how='right', left_on='DepMap_ID', right_on='DepMap_ID')\n",
    "cell_mu = pd.merge(cell_info[['DepMap_ID', 'cancer_type']], cell_mu, how='right', left_on='DepMap_ID', right_on='DepMap_ID')\n",
    "cell_exp = cell_exp[cell_exp.groupby('cancer_type')['cancer_type'].transform('size')>=10]\n",
    "cell_mu = cell_mu[cell_mu.groupby('cancer_type')['cancer_type'].transform('size')>=10]\n",
    "cancer_type_idx = cell_exp[['cancer_type']].dropna().drop_duplicates().sort_values('cancer_type')\n",
    "cancer_type_idx['cancer_type_idx'] = range(len(cancer_type_idx))\n",
    "cell_exp = pd.merge(cancer_type_idx, cell_exp, how='right', left_on='cancer_type', right_on='cancer_type')\n",
    "cell_mu = pd.merge(cancer_type_idx, cell_mu, how='right', left_on='cancer_type', right_on='cancer_type')"
   ]
  },
  {
   "cell_type": "code",
   "execution_count": 16,
   "metadata": {
    "ExecuteTime": {
     "end_time": "2022-04-24T07:29:43.018459Z",
     "start_time": "2022-04-24T07:29:43.012187Z"
    }
   },
   "outputs": [],
   "source": [
    "multi_task_df = multi_task_df.loc[cell_exp.DepMap_ID]\n",
    "ic_50_df = ic_50_df[ic_50_df.DepMap_ID.isin(cell_exp.DepMap_ID)]"
   ]
  },
  {
   "cell_type": "code",
   "execution_count": 19,
   "metadata": {
    "ExecuteTime": {
     "end_time": "2022-04-24T08:14:33.576043Z",
     "start_time": "2022-04-24T08:14:33.551334Z"
    }
   },
   "outputs": [],
   "source": [
    "drug_smiles = drug_smiles[drug_smiles['Drug name'].isin(multi_task_df.columns)]\n",
    "drug_smiles = drug_smiles.drop_duplicates(subset='Drug name')\n",
    "drug_smiles = drug_smiles.reset_index()"
   ]
  },
  {
   "cell_type": "code",
   "execution_count": 38,
   "metadata": {},
   "outputs": [],
   "source": [
    "gdsc_gene_list =  cell_exp.columns[4:].tolist()"
   ]
  },
  {
   "cell_type": "code",
   "execution_count": 77,
   "metadata": {},
   "outputs": [],
   "source": [
    "final_gene_list = list(set(gdsc_gene_list)&set(tcga_gene_list))\n",
    "final_gene_list.sort()"
   ]
  },
  {
   "cell_type": "code",
   "execution_count": 79,
   "metadata": {},
   "outputs": [],
   "source": [
    "gdsc_final_gene_list =  ['cancer_type', 'cancer_type_idx', 'DepMap_ID', 'cell_node_id'] + final_gene_list"
   ]
  },
  {
   "cell_type": "code",
   "execution_count": 80,
   "metadata": {},
   "outputs": [],
   "source": [
    "cell_exp = cell_exp[gdsc_final_gene_list]\n",
    "cell_mu = cell_mu[gdsc_final_gene_list]"
   ]
  },
  {
   "cell_type": "code",
   "execution_count": 81,
   "metadata": {},
   "outputs": [],
   "source": [
    "with open(\"./data/GDSC_dataset.dict\", \"wb\") as f:\n",
    "    pickle.dump({'ic50':ic_50_df, 'multi_task_df':multi_task_df, 'cell_exp':cell_exp, 'cell_mu':cell_mu, 'drug_smiles':drug_smiles}, f)"
   ]
  },
  {
   "cell_type": "markdown",
   "metadata": {},
   "source": [
    "# TCGA"
   ]
  },
  {
   "cell_type": "code",
   "execution_count": 28,
   "metadata": {},
   "outputs": [],
   "source": [
    "TCGA_exp = pd.read_csv('data/TCGA_exp.csv')\n",
    "TCGA_mu = pd.read_csv('data/TCGA_mu.csv')"
   ]
  },
  {
   "cell_type": "code",
   "execution_count": 40,
   "metadata": {},
   "outputs": [],
   "source": [
    "tcga_gene_list = TCGA_exp.columns.tolist()[2:]"
   ]
  },
  {
   "cell_type": "code",
   "execution_count": 43,
   "metadata": {},
   "outputs": [],
   "source": [
    "tcga_final_gene_list = ['sample', 'cancer_type', ] + final_gene_list"
   ]
  },
  {
   "cell_type": "code",
   "execution_count": 44,
   "metadata": {},
   "outputs": [],
   "source": [
    "TCGA_exp = TCGA_exp[tcga_final_gene_list]\n",
    "TCGA_mu = TCGA_mu[tcga_final_gene_list]"
   ]
  },
  {
   "cell_type": "code",
   "execution_count": 45,
   "metadata": {},
   "outputs": [],
   "source": [
    "TCGA_exp = TCGA_exp.loc[:,~TCGA_exp.columns.duplicated()]\n",
    "TCGA_mu = TCGA_mu.loc[:,~TCGA_mu.columns.duplicated()]"
   ]
  },
  {
   "cell_type": "code",
   "execution_count": 47,
   "metadata": {},
   "outputs": [],
   "source": [
    "TCGA_exp = TCGA_exp.dropna(axis=0)\n",
    "TCGA_mu = TCGA_mu.dropna(axis=0)"
   ]
  },
  {
   "cell_type": "markdown",
   "metadata": {},
   "source": [
    "# 处理TCGA临床数据集"
   ]
  },
  {
   "cell_type": "markdown",
   "metadata": {},
   "source": [
    "# 联合用药的拆开"
   ]
  },
  {
   "cell_type": "code",
   "execution_count": 49,
   "metadata": {
    "ExecuteTime": {
     "end_time": "2021-09-29T04:25:45.541637Z",
     "start_time": "2021-09-29T04:25:45.517892Z"
    }
   },
   "outputs": [],
   "source": [
    "sample = pd.read_excel('data/TCGA_DRP.xlsx', engine='openpyxl')"
   ]
  },
  {
   "cell_type": "code",
   "execution_count": 50,
   "metadata": {},
   "outputs": [],
   "source": [
    "sample = sample[sample['measure_of_response'].isin(['Complete Response','Partial Response'])]"
   ]
  },
  {
   "cell_type": "code",
   "execution_count": 51,
   "metadata": {},
   "outputs": [],
   "source": [
    "def make_drug_list(df):\n",
    "    return list(df['Drug name'])"
   ]
  },
  {
   "cell_type": "code",
   "execution_count": 52,
   "metadata": {},
   "outputs": [],
   "source": [
    "sample = sample.groupby('sample').apply(lambda x: make_drug_list(x)).reset_index().rename(columns={0: 'drug'})"
   ]
  },
  {
   "cell_type": "code",
   "execution_count": 53,
   "metadata": {},
   "outputs": [],
   "source": [
    "sample.to_csv('data/TCGA_DRP.csv')"
   ]
  },
  {
   "cell_type": "code",
   "execution_count": 54,
   "metadata": {},
   "outputs": [],
   "source": [
    "TCGA_Sample_Name = [x for x in  TCGA_exp['sample'].tolist() if x[-2] == '0']\n",
    "TCGA_exp_01 = TCGA_exp[TCGA_exp['sample'].isin(TCGA_Sample_Name)]\n",
    "TCGA_exp_01['sample'] = [x[:-3] for x in TCGA_exp_01['sample']]\n",
    "TCGA_mu_01 = TCGA_mu[TCGA_mu['sample'].isin(TCGA_Sample_Name)]\n",
    "TCGA_mu_01['sample'] = [x[:-3] for x in TCGA_mu_01['sample']]"
   ]
  },
  {
   "cell_type": "code",
   "execution_count": 55,
   "metadata": {},
   "outputs": [],
   "source": [
    "sample_name = list(set(sample['sample'])&set(TCGA_exp_01['sample']))\n",
    "sample = sample[sample['sample'].isin(sample_name)]"
   ]
  },
  {
   "cell_type": "code",
   "execution_count": 56,
   "metadata": {},
   "outputs": [],
   "source": [
    "TCGA_exp_01 = TCGA_exp_01[TCGA_exp_01['sample'].isin(sample_name)]\n",
    "TCGA_mu_01 = TCGA_mu_01[TCGA_mu_01['sample'].isin(sample_name)]\n",
    "sample = sample.sort_values('sample')"
   ]
  },
  {
   "cell_type": "code",
   "execution_count": 57,
   "metadata": {},
   "outputs": [],
   "source": [
    "TCGA_exp_01 = TCGA_exp_01.sort_values('sample')\n",
    "TCGA_exp_01 = TCGA_exp_01.drop_duplicates(subset='sample')\n",
    "TCGA_mu_01 = TCGA_mu_01.sort_values('sample')\n",
    "TCGA_mu_01 = TCGA_mu_01.drop_duplicates(subset='sample')"
   ]
  },
  {
   "cell_type": "code",
   "execution_count": 58,
   "metadata": {},
   "outputs": [],
   "source": [
    "TCGA_exp_01 = TCGA_exp_01.reset_index(drop=True)\n",
    "TCGA_mu_01 = TCGA_mu_01.reset_index(drop=True)\n",
    "sample = sample.reset_index(drop=True)"
   ]
  },
  {
   "cell_type": "code",
   "execution_count": 59,
   "metadata": {},
   "outputs": [],
   "source": [
    "sample['cancer_type'] = TCGA_exp_01['cancer_type']"
   ]
  },
  {
   "cell_type": "code",
   "execution_count": 60,
   "metadata": {},
   "outputs": [],
   "source": [
    "TCGA_exp_01 = TCGA_exp_01[TCGA_exp_01.groupby('cancer_type')['cancer_type'].transform('size')>=10]\n",
    "TCGA_exp_01 = TCGA_exp_01.reset_index(drop=True)"
   ]
  },
  {
   "cell_type": "code",
   "execution_count": 61,
   "metadata": {},
   "outputs": [],
   "source": [
    "TCGA_mu_01 = TCGA_mu_01[TCGA_mu_01.groupby('cancer_type')['cancer_type'].transform('size')>=10]\n",
    "TCGA_mu_01 = TCGA_mu_01.reset_index(drop=True)"
   ]
  },
  {
   "cell_type": "code",
   "execution_count": 62,
   "metadata": {},
   "outputs": [],
   "source": [
    "sample = sample[sample.groupby('cancer_type')['cancer_type'].transform('size')>=10]"
   ]
  },
  {
   "cell_type": "code",
   "execution_count": 63,
   "metadata": {},
   "outputs": [],
   "source": [
    "sample = sample.reset_index(drop=True)"
   ]
  },
  {
   "cell_type": "code",
   "execution_count": 64,
   "metadata": {},
   "outputs": [],
   "source": [
    "from itertools import chain\n",
    "num_drug = list(set(list(chain.from_iterable(sample['drug'].values))))"
   ]
  },
  {
   "cell_type": "code",
   "execution_count": 65,
   "metadata": {},
   "outputs": [],
   "source": [
    "response = []\n",
    "for drugs in sample['drug'].tolist():\n",
    "    response.append([1 if x in drugs else 0 for x in num_drug])"
   ]
  },
  {
   "cell_type": "code",
   "execution_count": 66,
   "metadata": {},
   "outputs": [],
   "source": [
    "sample[num_drug] = response"
   ]
  },
  {
   "cell_type": "code",
   "execution_count": 67,
   "metadata": {},
   "outputs": [],
   "source": [
    "del sample['drug']"
   ]
  },
  {
   "cell_type": "code",
   "execution_count": 71,
   "metadata": {},
   "outputs": [],
   "source": [
    "with open(\"./data/TCGA_dataset.dict\", \"wb\") as f:\n",
    "    pickle.dump({'TCGA_DRP':sample, 'cell_exp':TCGA_exp_01, 'cell_mu':TCGA_mu_01}, f)"
   ]
  },
  {
   "cell_type": "markdown",
   "metadata": {},
   "source": [
    "# 处理GDSC药物"
   ]
  },
  {
   "cell_type": "code",
   "execution_count": null,
   "metadata": {},
   "outputs": [],
   "source": [
    "import csv\n",
    "from pubchempy import *\n",
    "folder = './'\n",
    "def write_drug_cid():\n",
    "    drugs = node_drug['Drug name'].tolist()\n",
    "    drug_id = []\n",
    "    datas = []\n",
    "    outputfile = open(folder + 'pychem_cid.csv', 'w')\n",
    "    wr = csv.writer(outputfile)\n",
    "    unknow_drug = []\n",
    "    for drug in drugs:\n",
    "        c = get_compounds(drug, 'name')\n",
    "        if drug.isdigit():\n",
    "            cid = int(drug)\n",
    "        elif len(c) == 0:\n",
    "            unknow_drug.append(drug)\n",
    "            continue\n",
    "        else:\n",
    "            cid = c[0].cid\n",
    "        print(drug, cid)\n",
    "        drug_id.append(cid)\n",
    "        row = [drug, str(cid)]\n",
    "        wr.writerow(row)\n",
    "    outputfile.close()\n",
    "    outputfile = open(folder + \"unknow_drug_by_pychem.csv\", 'w')\n",
    "    wr = csv.writer(outputfile)\n",
    "    wr.writerow(unknow_drug)\n",
    "\n",
    "def cid_from_other_source():\n",
    "    \"\"\"\n",
    "    some drug can not be found in pychem, so I try to find some cid manually.\n",
    "    the small_molecule.csv is downloaded from http://lincs.hms.harvard.edu/db/sm/\n",
    "    \"\"\"\n",
    "    f = open(folder + \"small_molecule.csv\", 'r')\n",
    "    reader = csv.reader(f)\n",
    "    next(reader)\n",
    "    cid_dict = {}\n",
    "    for item in reader:\n",
    "        name = item[1]\n",
    "        cid = item[4]\n",
    "        if not name in cid_dict: \n",
    "            cid_dict[name] = str(cid)\n",
    "\n",
    "    unknow_drug = open(folder + \"unknow_drug_by_pychem.csv\").readline().split(\",\")\n",
    "    drug_cid_dict = {k:v for k,v in cid_dict.items() if k in unknow_drug and not is_not_float([v])}\n",
    "    return drug_cid_dict\n",
    "\n",
    "def load_cid_dict():\n",
    "    reader = csv.reader(open(folder + \"pychem_cid.csv\"))\n",
    "    pychem_dict = {}\n",
    "    for item in reader:\n",
    "        pychem_dict[item[0]] = item[1]\n",
    "    pychem_dict.update(cid_from_other_source())\n",
    "    return pychem_dict\n",
    "\n",
    "\n",
    "def download_smiles():\n",
    "    cids_dict = load_cid_dict()\n",
    "    cids = [v for k,v in cids_dict.items()]\n",
    "    inv_cids_dict = {v:k for k,v in cids_dict.items()}\n",
    "    download('CSV', folder + 'drug_smiles.csv', cids, operation='property/CanonicalSMILES,IsomericSMILES', overwrite=True)\n",
    "    f = open(folder + 'drug_smiles.csv')\n",
    "    reader = csv.reader(f)\n",
    "    header = ['name'] + next(reader)\n",
    "    content = []\n",
    "    for line in reader:\n",
    "        content.append([inv_cids_dict[line[0]]] + line)\n",
    "    f.close()\n",
    "    f = open(folder + \"drug_smiles.csv\", \"w\")\n",
    "    writer = csv.writer(f)\n",
    "    writer.writerow(header)\n",
    "    for item in content:\n",
    "        writer.writerow(item)\n",
    "    f.close()"
   ]
  },
  {
   "cell_type": "code",
   "execution_count": null,
   "metadata": {},
   "outputs": [],
   "source": [
    "write_drug_cid()\n",
    "download_smiles()"
   ]
  },
  {
   "cell_type": "markdown",
   "metadata": {},
   "source": [
    "# 检查csv是否错误"
   ]
  },
  {
   "cell_type": "code",
   "execution_count": null,
   "metadata": {},
   "outputs": [],
   "source": [
    "f = open('/data/ouyangzhenqiu/project/cloud_ecg/cwb/TCGA/drug_SMILES.csv',\"rb\")#二进制格式读文件\n",
    "i = 0\n",
    "while True:\n",
    "    i += 1 \n",
    "    print(i)\n",
    "    line = f.readline()\n",
    "    if not line:\n",
    "        break\n",
    "    else:\n",
    "        try:\n",
    "            line.decode('utf8')\n",
    "        except:\n",
    "            print(str(line))"
   ]
  }
 ],
 "metadata": {
  "kernelspec": {
   "display_name": "ogb",
   "language": "python",
   "name": "ogb"
  },
  "language_info": {
   "codemirror_mode": {
    "name": "ipython",
    "version": 3
   },
   "file_extension": ".py",
   "mimetype": "text/x-python",
   "name": "python",
   "nbconvert_exporter": "python",
   "pygments_lexer": "ipython3",
   "version": "3.6.13"
  }
 },
 "nbformat": 4,
 "nbformat_minor": 2
}
